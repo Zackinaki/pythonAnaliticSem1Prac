{
 "cells": [
  {
   "cell_type": "markdown",
   "id": "6eb72496",
   "metadata": {},
   "source": [
    "Условие 1:\n",
    "Оформляйте ноутбук, используя эти советы:\n",
    "Номер задачи - заголовок 2\n",
    "Номер подзадачи - заголовок 3\n",
    "Предоставленные наборы данных оформляйте, как код\n",
    "Рекомендации для преподавателей по оценке задания:\n",
    "Смотреть, чтобы студент красиво оформлял ноутбук, использовал ячейки с текстом, указывал номера заданий\n",
    "\n",
    "Условие 2:\n",
    "На складе лежат разные фрукты в разном количестве.\n",
    "Нужно написать функцию, которая на вход принимает любое количество названий фруктов и их количество, а возвращает общее количество фруктов на складе\n"
   ]
  },
  {
   "cell_type": "markdown",
   "id": "e798b070",
   "metadata": {},
   "source": [
    "## Zadacha 2"
   ]
  },
  {
   "cell_type": "code",
   "execution_count": 50,
   "id": "43d83b36",
   "metadata": {},
   "outputs": [],
   "source": [
    "def newSclad() ->dict:\n",
    "    sclad={}\n",
    "    print(\"Skol'ko vidov fruktov na sklade: \")\n",
    "    sizeSclad=int(input())\n",
    "    for i in range(sizeSclad):\n",
    "        print('Napishite nazvanie frukta: ')\n",
    "        k=input()\n",
    "        print('Napishite kol-vo etih fruktov: ')\n",
    "        v=int(input())\n",
    "        sclad[k]=v\n",
    "    \n",
    "    return sclad"
   ]
  },
  {
   "cell_type": "code",
   "execution_count": 51,
   "id": "1525383d",
   "metadata": {},
   "outputs": [],
   "source": [
    "def obsheeKolichestvoTovara(sclad: dict) ->int:\n",
    "    sumTovarov=sum(sclad.values())\n",
    "    return print(f'Obchee kol-vo fruktov na sclade = {sumTovarov}')"
   ]
  },
  {
   "cell_type": "code",
   "execution_count": 52,
   "id": "e5f8e7f1",
   "metadata": {},
   "outputs": [
    {
     "name": "stdout",
     "output_type": "stream",
     "text": [
      "Skol'ko vidov fruktov na sklade: \n",
      "4\n",
      "Napishite nazvanie frukta: \n",
      "apelsin\n",
      "Napishite kol-vo etih fruktov: \n",
      "25\n",
      "Napishite nazvanie frukta: \n",
      "abloko\n",
      "Napishite kol-vo etih fruktov: \n",
      "15\n",
      "Napishite nazvanie frukta: \n",
      "banan\n",
      "Napishite kol-vo etih fruktov: \n",
      "35\n",
      "Napishite nazvanie frukta: \n",
      "grusha\n",
      "Napishite kol-vo etih fruktov: \n",
      "55\n"
     ]
    }
   ],
   "source": [
    "sclad1=newSclad()"
   ]
  },
  {
   "cell_type": "code",
   "execution_count": 53,
   "id": "86b8a93d",
   "metadata": {},
   "outputs": [
    {
     "data": {
      "text/plain": [
       "{'apelsin': 25, 'abloko': 15, 'banan': 35, 'grusha': 55}"
      ]
     },
     "execution_count": 53,
     "metadata": {},
     "output_type": "execute_result"
    }
   ],
   "source": [
    "sclad1"
   ]
  },
  {
   "cell_type": "code",
   "execution_count": 54,
   "id": "a123e86b",
   "metadata": {},
   "outputs": [
    {
     "name": "stdout",
     "output_type": "stream",
     "text": [
      "Obchee kol-vo fruktov na sclade = 130\n"
     ]
    }
   ],
   "source": [
    "obsheeKolichestvoTovara(sclad1)"
   ]
  },
  {
   "cell_type": "code",
   "execution_count": 73,
   "id": "dcbcdeac",
   "metadata": {},
   "outputs": [],
   "source": [
    "def newSclad1(**kwargs) ->dict:\n",
    "    print(type(kwargs))\n",
    "    print()\n",
    "    sklad2={}\n",
    "    for key, value in kwargs.items():\n",
    "        sklad2[key]=value\n",
    "    return sklad2"
   ]
  },
  {
   "cell_type": "code",
   "execution_count": 74,
   "id": "2154d75e",
   "metadata": {},
   "outputs": [
    {
     "name": "stdout",
     "output_type": "stream",
     "text": [
      "<class 'dict'>\n",
      "\n"
     ]
    }
   ],
   "source": [
    "sclad3=newSclad1(banana=5, mango=7, apple=8)"
   ]
  },
  {
   "cell_type": "code",
   "execution_count": 75,
   "id": "40e6da33",
   "metadata": {},
   "outputs": [
    {
     "data": {
      "text/plain": [
       "{'banana': 5, 'mango': 7, 'apple': 8}"
      ]
     },
     "execution_count": 75,
     "metadata": {},
     "output_type": "execute_result"
    }
   ],
   "source": [
    "sclad3"
   ]
  },
  {
   "cell_type": "code",
   "execution_count": 76,
   "id": "22f3a194",
   "metadata": {},
   "outputs": [
    {
     "name": "stdout",
     "output_type": "stream",
     "text": [
      "Obchee kol-vo fruktov na sclade = 20\n"
     ]
    }
   ],
   "source": [
    "obsheeKolichestvoTovara(sclad3)"
   ]
  },
  {
   "cell_type": "code",
   "execution_count": null,
   "id": "62247718",
   "metadata": {},
   "outputs": [],
   "source": []
  }
 ],
 "metadata": {
  "kernelspec": {
   "display_name": "Python 3 (ipykernel)",
   "language": "python",
   "name": "python3"
  },
  "language_info": {
   "codemirror_mode": {
    "name": "ipython",
    "version": 3
   },
   "file_extension": ".py",
   "mimetype": "text/x-python",
   "name": "python",
   "nbconvert_exporter": "python",
   "pygments_lexer": "ipython3",
   "version": "3.11.4"
  }
 },
 "nbformat": 4,
 "nbformat_minor": 5
}
