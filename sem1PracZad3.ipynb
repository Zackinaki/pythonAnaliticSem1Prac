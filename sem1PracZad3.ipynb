{
 "cells": [
  {
   "cell_type": "markdown",
   "id": "544e26be",
   "metadata": {},
   "source": [
    "Условие 3:\n",
    "Дан список с затратами на рекламу. Но в данных есть ошибки, некоторые затраты имеют отрицательную величину. Удалите такие значения из списка и посчитайте суммарные затраты\n",
    "[100, 125, -90, 345, 655, -1, 0, 200]\n",
    "Используйте list comprehensions\n",
    "\n"
   ]
  },
  {
   "cell_type": "markdown",
   "id": "b977bc5f",
   "metadata": {},
   "source": [
    "## Zadacha 3"
   ]
  },
  {
   "cell_type": "code",
   "execution_count": 15,
   "id": "c5529aea",
   "metadata": {},
   "outputs": [
    {
     "data": {
      "text/plain": [
       "[100, 125, -90, 345, 655, -1, 0, 200]"
      ]
     },
     "execution_count": 15,
     "metadata": {},
     "output_type": "execute_result"
    }
   ],
   "source": [
    "zatratiReklama=[100, 125, -90, 345, 655, -1, 0, 200]\n",
    "zatratiReklama"
   ]
  },
  {
   "cell_type": "code",
   "execution_count": 16,
   "id": "22b487b2",
   "metadata": {},
   "outputs": [
    {
     "data": {
      "text/plain": [
       "[100, 125, 0, 345, 655, 0, 0, 200]"
      ]
     },
     "execution_count": 16,
     "metadata": {},
     "output_type": "execute_result"
    }
   ],
   "source": [
    "zatratiReklamaSort = [i if i > 0 else 0 for i in zatratiReklama]\n",
    "zatratiReklamaSort"
   ]
  },
  {
   "cell_type": "code",
   "execution_count": 17,
   "id": "6cb00ca0",
   "metadata": {},
   "outputs": [
    {
     "data": {
      "text/plain": [
       "1425"
      ]
     },
     "execution_count": 17,
     "metadata": {},
     "output_type": "execute_result"
    }
   ],
   "source": [
    "sum(zatratiReklamaSort)"
   ]
  },
  {
   "cell_type": "markdown",
   "id": "d983a3b6",
   "metadata": {},
   "source": [
    "### list comprehensions"
   ]
  },
  {
   "cell_type": "code",
   "execution_count": 19,
   "id": "9fba3cfc",
   "metadata": {},
   "outputs": [
    {
     "data": {
      "text/plain": [
       "1425"
      ]
     },
     "execution_count": 19,
     "metadata": {},
     "output_type": "execute_result"
    }
   ],
   "source": [
    "def zatratiReklamaSort1(zatratiReklama: list) ->list:\n",
    "    return zatratiReklama if zatratiReklama > 0 else 0\n",
    "\n",
    "sumZatratiReklamaSort = sum([zatratiReklamaSort1(i) for i in zatratiReklama])\n",
    "sumZatratiReklamaSort"
   ]
  },
  {
   "cell_type": "code",
   "execution_count": null,
   "id": "39c9b561",
   "metadata": {},
   "outputs": [],
   "source": []
  }
 ],
 "metadata": {
  "kernelspec": {
   "display_name": "Python 3 (ipykernel)",
   "language": "python",
   "name": "python3"
  },
  "language_info": {
   "codemirror_mode": {
    "name": "ipython",
    "version": 3
   },
   "file_extension": ".py",
   "mimetype": "text/x-python",
   "name": "python",
   "nbconvert_exporter": "python",
   "pygments_lexer": "ipython3",
   "version": "3.11.4"
  }
 },
 "nbformat": 4,
 "nbformat_minor": 5
}
